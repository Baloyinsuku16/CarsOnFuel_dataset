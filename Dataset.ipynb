{
 "cells": [
  {
   "cell_type": "code",
   "execution_count": 1,
   "id": "956bfc92-a012-401e-93fc-4b35df9d7cfb",
   "metadata": {},
   "outputs": [
    {
     "name": "stdout",
     "output_type": "stream",
     "text": [
      "<bound method NDFrame.head of          Year   Manufacturer                 Model         Description  \\\n",
      "0      2000.0     Alfa Romeo             145 Range  1.6 Twin Spark 16v   \n",
      "1      2000.0     Alfa Romeo             145 Range  1.8 Twin Spark 16v   \n",
      "2      2000.0     Alfa Romeo             145 Range          Cloverleaf   \n",
      "3      2000.0     Alfa Romeo             146 Range  1.6 Twin Spark 16v   \n",
      "4      2000.0     Alfa Romeo             146 Range  1.8 Twin Spark 16v   \n",
      "...       ...            ...                   ...                 ...   \n",
      "10145  2004.0  Mercedes-Benz  CLK (A209) Cabriolet     320 (245 Tyres)   \n",
      "10146  2004.0  Mercedes-Benz  CLK (A209) Cabriolet     320 (255 Tyres)   \n",
      "10147  2004.0  Mercedes-Benz  CLK (A209) Cabriolet     500 (245 Tyres)   \n",
      "10148  2004.0  Mercedes-Benz  CLK (A209) Cabriolet     500 (255 Tyres)   \n",
      "10149     NaN            NaN                   NaN                 NaN   \n",
      "\n",
      "      Transmission Transmission_type  Engine_capacity Fuel_type  Co_emissions  \\\n",
      "0               M5            Manual           1598.0    Petrol         980.0   \n",
      "1               M5            Manual           1747.0    Petrol        1105.0   \n",
      "2               M5            Manual           1970.0    Petrol        1103.0   \n",
      "3               M5            Manual           1598.0    Petrol         980.0   \n",
      "4               M5            Manual           1747.0    Petrol        1105.0   \n",
      "...            ...               ...              ...       ...           ...   \n",
      "10145           A5         Automatic           3199.0    Petrol         300.0   \n",
      "10146           A5         Automatic           3199.0    Petrol         300.0   \n",
      "10147           A5         Automatic           4966.0    Petrol         300.0   \n",
      "10148           A5         Automatic           4966.0    Petrol         300.0   \n",
      "10149          NaN               NaN              NaN       NaN           NaN   \n",
      "\n",
      "      Fuel_cost_6000_miles  \n",
      "0                      618  \n",
      "1                      633  \n",
      "2                      663  \n",
      "3                      626  \n",
      "4                      633  \n",
      "...                    ...  \n",
      "10145                  736  \n",
      "10146                  758  \n",
      "10147                  805  \n",
      "10148                  805  \n",
      "10149                    s  \n",
      "\n",
      "[10150 rows x 10 columns]>\n"
     ]
    }
   ],
   "source": [
    "import pandas as pd\n",
    "import matplotlib.pyplot as plt\n",
    "df = pd.read_csv(\"C:\\\\Users\\\\Nsuku\\\\Documents\\\\Honors in information Sy\\\\Learning From Data\\\\CarsOnfuels.csv\")\n",
    "print(df.head)\n",
    "\n"
   ]
  },
  {
   "cell_type": "code",
   "execution_count": 2,
   "id": "3a3fea87-a37c-4fa1-9361-65c2c2b1b154",
   "metadata": {},
   "outputs": [
    {
     "data": {
      "text/html": [
       "<div>\n",
       "<style scoped>\n",
       "    .dataframe tbody tr th:only-of-type {\n",
       "        vertical-align: middle;\n",
       "    }\n",
       "\n",
       "    .dataframe tbody tr th {\n",
       "        vertical-align: top;\n",
       "    }\n",
       "\n",
       "    .dataframe thead th {\n",
       "        text-align: right;\n",
       "    }\n",
       "</style>\n",
       "<table border=\"1\" class=\"dataframe\">\n",
       "  <thead>\n",
       "    <tr style=\"text-align: right;\">\n",
       "      <th></th>\n",
       "      <th>Year</th>\n",
       "      <th>Manufacturer</th>\n",
       "      <th>Model</th>\n",
       "      <th>Description</th>\n",
       "      <th>Transmission</th>\n",
       "      <th>Transmission_type</th>\n",
       "      <th>Engine_capacity</th>\n",
       "      <th>Fuel_type</th>\n",
       "      <th>Co_emissions</th>\n",
       "      <th>Fuel_cost_6000_miles</th>\n",
       "    </tr>\n",
       "  </thead>\n",
       "  <tbody>\n",
       "    <tr>\n",
       "      <th>10145</th>\n",
       "      <td>2004.0</td>\n",
       "      <td>Mercedes-Benz</td>\n",
       "      <td>CLK (A209) Cabriolet</td>\n",
       "      <td>320 (245 Tyres)</td>\n",
       "      <td>A5</td>\n",
       "      <td>Automatic</td>\n",
       "      <td>3199.0</td>\n",
       "      <td>Petrol</td>\n",
       "      <td>300.0</td>\n",
       "      <td>736</td>\n",
       "    </tr>\n",
       "    <tr>\n",
       "      <th>10146</th>\n",
       "      <td>2004.0</td>\n",
       "      <td>Mercedes-Benz</td>\n",
       "      <td>CLK (A209) Cabriolet</td>\n",
       "      <td>320 (255 Tyres)</td>\n",
       "      <td>A5</td>\n",
       "      <td>Automatic</td>\n",
       "      <td>3199.0</td>\n",
       "      <td>Petrol</td>\n",
       "      <td>300.0</td>\n",
       "      <td>758</td>\n",
       "    </tr>\n",
       "    <tr>\n",
       "      <th>10147</th>\n",
       "      <td>2004.0</td>\n",
       "      <td>Mercedes-Benz</td>\n",
       "      <td>CLK (A209) Cabriolet</td>\n",
       "      <td>500 (245 Tyres)</td>\n",
       "      <td>A5</td>\n",
       "      <td>Automatic</td>\n",
       "      <td>4966.0</td>\n",
       "      <td>Petrol</td>\n",
       "      <td>300.0</td>\n",
       "      <td>805</td>\n",
       "    </tr>\n",
       "    <tr>\n",
       "      <th>10148</th>\n",
       "      <td>2004.0</td>\n",
       "      <td>Mercedes-Benz</td>\n",
       "      <td>CLK (A209) Cabriolet</td>\n",
       "      <td>500 (255 Tyres)</td>\n",
       "      <td>A5</td>\n",
       "      <td>Automatic</td>\n",
       "      <td>4966.0</td>\n",
       "      <td>Petrol</td>\n",
       "      <td>300.0</td>\n",
       "      <td>805</td>\n",
       "    </tr>\n",
       "    <tr>\n",
       "      <th>10149</th>\n",
       "      <td>NaN</td>\n",
       "      <td>NaN</td>\n",
       "      <td>NaN</td>\n",
       "      <td>NaN</td>\n",
       "      <td>NaN</td>\n",
       "      <td>NaN</td>\n",
       "      <td>NaN</td>\n",
       "      <td>NaN</td>\n",
       "      <td>NaN</td>\n",
       "      <td>s</td>\n",
       "    </tr>\n",
       "  </tbody>\n",
       "</table>\n",
       "</div>"
      ],
      "text/plain": [
       "         Year   Manufacturer                 Model      Description  \\\n",
       "10145  2004.0  Mercedes-Benz  CLK (A209) Cabriolet  320 (245 Tyres)   \n",
       "10146  2004.0  Mercedes-Benz  CLK (A209) Cabriolet  320 (255 Tyres)   \n",
       "10147  2004.0  Mercedes-Benz  CLK (A209) Cabriolet  500 (245 Tyres)   \n",
       "10148  2004.0  Mercedes-Benz  CLK (A209) Cabriolet  500 (255 Tyres)   \n",
       "10149     NaN            NaN                   NaN              NaN   \n",
       "\n",
       "      Transmission Transmission_type  Engine_capacity Fuel_type  Co_emissions  \\\n",
       "10145           A5         Automatic           3199.0    Petrol         300.0   \n",
       "10146           A5         Automatic           3199.0    Petrol         300.0   \n",
       "10147           A5         Automatic           4966.0    Petrol         300.0   \n",
       "10148           A5         Automatic           4966.0    Petrol         300.0   \n",
       "10149          NaN               NaN              NaN       NaN           NaN   \n",
       "\n",
       "      Fuel_cost_6000_miles  \n",
       "10145                  736  \n",
       "10146                  758  \n",
       "10147                  805  \n",
       "10148                  805  \n",
       "10149                    s  "
      ]
     },
     "execution_count": 2,
     "metadata": {},
     "output_type": "execute_result"
    }
   ],
   "source": [
    "df.tail()"
   ]
  },
  {
   "cell_type": "code",
   "execution_count": 3,
   "id": "c435bb39-5392-4c51-ba3e-93864080e958",
   "metadata": {},
   "outputs": [
    {
     "data": {
      "text/html": [
       "<div>\n",
       "<style scoped>\n",
       "    .dataframe tbody tr th:only-of-type {\n",
       "        vertical-align: middle;\n",
       "    }\n",
       "\n",
       "    .dataframe tbody tr th {\n",
       "        vertical-align: top;\n",
       "    }\n",
       "\n",
       "    .dataframe thead th {\n",
       "        text-align: right;\n",
       "    }\n",
       "</style>\n",
       "<table border=\"1\" class=\"dataframe\">\n",
       "  <thead>\n",
       "    <tr style=\"text-align: right;\">\n",
       "      <th></th>\n",
       "      <th>Year</th>\n",
       "      <th>Engine_capacity</th>\n",
       "      <th>Co_emissions</th>\n",
       "    </tr>\n",
       "  </thead>\n",
       "  <tbody>\n",
       "    <tr>\n",
       "      <th>count</th>\n",
       "      <td>10149.000000</td>\n",
       "      <td>10149.000000</td>\n",
       "      <td>10121.000000</td>\n",
       "    </tr>\n",
       "    <tr>\n",
       "      <th>mean</th>\n",
       "      <td>2001.957139</td>\n",
       "      <td>2191.888659</td>\n",
       "      <td>503.983658</td>\n",
       "    </tr>\n",
       "    <tr>\n",
       "      <th>std</th>\n",
       "      <td>1.270258</td>\n",
       "      <td>868.310125</td>\n",
       "      <td>335.823068</td>\n",
       "    </tr>\n",
       "    <tr>\n",
       "      <th>min</th>\n",
       "      <td>2000.000000</td>\n",
       "      <td>599.000000</td>\n",
       "      <td>1.000000</td>\n",
       "    </tr>\n",
       "    <tr>\n",
       "      <th>25%</th>\n",
       "      <td>2001.000000</td>\n",
       "      <td>1753.000000</td>\n",
       "      <td>247.000000</td>\n",
       "    </tr>\n",
       "    <tr>\n",
       "      <th>50%</th>\n",
       "      <td>2002.000000</td>\n",
       "      <td>1995.000000</td>\n",
       "      <td>436.000000</td>\n",
       "    </tr>\n",
       "    <tr>\n",
       "      <th>75%</th>\n",
       "      <td>2003.000000</td>\n",
       "      <td>2461.000000</td>\n",
       "      <td>700.000000</td>\n",
       "    </tr>\n",
       "    <tr>\n",
       "      <th>max</th>\n",
       "      <td>2004.000000</td>\n",
       "      <td>7990.000000</td>\n",
       "      <td>2476.000000</td>\n",
       "    </tr>\n",
       "  </tbody>\n",
       "</table>\n",
       "</div>"
      ],
      "text/plain": [
       "               Year  Engine_capacity  Co_emissions\n",
       "count  10149.000000     10149.000000  10121.000000\n",
       "mean    2001.957139      2191.888659    503.983658\n",
       "std        1.270258       868.310125    335.823068\n",
       "min     2000.000000       599.000000      1.000000\n",
       "25%     2001.000000      1753.000000    247.000000\n",
       "50%     2002.000000      1995.000000    436.000000\n",
       "75%     2003.000000      2461.000000    700.000000\n",
       "max     2004.000000      7990.000000   2476.000000"
      ]
     },
     "execution_count": 3,
     "metadata": {},
     "output_type": "execute_result"
    }
   ],
   "source": [
    "df.describe()\n"
   ]
  },
  {
   "cell_type": "code",
   "execution_count": 5,
   "id": "2347d163-7333-4bd6-a43a-3fed432ecee8",
   "metadata": {},
   "outputs": [
    {
     "data": {
      "text/plain": [
       "<Axes: >"
      ]
     },
     "execution_count": 5,
     "metadata": {},
     "output_type": "execute_result"
    },
    {
     "data": {
      "image/png": "[encoded data removed]",
      "text/plain": [
       "<Figure size 640x480 with 1 Axes>"
      ]
     },
     "metadata": {},
     "output_type": "display_data"
    }
   ],
   "source": [
    "(df['Engine_capacity'].hist())\n"
   ]
  },
  {
   "cell_type": "code",
   "execution_count": 6,
   "id": "2b5e46fc-ba4b-4870-a5fc-4a33319fd998",
   "metadata": {},
   "outputs": [
    {
     "data": {
      "text/plain": [
       "{'whiskers': [<matplotlib.lines.Line2D at 0x1c7732a0850>,\n",
       "  <matplotlib.lines.Line2D at 0x1c7732a1410>],\n",
       " 'caps': [<matplotlib.lines.Line2D at 0x1c7732a2110>,\n",
       "  <matplotlib.lines.Line2D at 0x1c7732a2b50>],\n",
       " 'boxes': [<matplotlib.lines.Line2D at 0x1c77329bd10>],\n",
       " 'medians': [<matplotlib.lines.Line2D at 0x1c7732a3590>],\n",
       " 'fliers': [<matplotlib.lines.Line2D at 0x1c7732b0110>],\n",
       " 'means': []}"
      ]
     },
     "execution_count": 6,
     "metadata": {},
     "output_type": "execute_result"
    },
    {
     "data": {
      "image/png": "[encoded data removed]",
      "text/plain": [
       "<Figure size 640x480 with 1 Axes>"
      ]
     },
     "metadata": {},
     "output_type": "display_data"
    }
   ],
   "source": [
    "# Assuming you want to exclude rows with missing values\n",
    "df_filtered = df.dropna(subset=['Engine_capacity'])\n",
    "plt.boxplot(df_filtered['Engine_capacity']) "
   ]
  }
 ],
 "metadata": {
  "kernelspec": {
   "display_name": "Python 3 (ipykernel)",
   "language": "python",
   "name": "python3"
  },
  "language_info": {
   "codemirror_mode": {
    "name": "ipython",
    "version": 3
   },
   "file_extension": ".py",
   "mimetype": "text/x-python",
   "name": "python",
   "nbconvert_exporter": "python",
   "pygments_lexer": "ipython3",
   "version": "3.11.7"
  }
 },
 "nbformat": 4,
 "nbformat_minor": 5
}
